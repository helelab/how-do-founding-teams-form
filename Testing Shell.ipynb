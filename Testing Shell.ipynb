{
 "cells": [
  {
   "cell_type": "code",
   "execution_count": 73,
   "metadata": {},
   "outputs": [],
   "source": [
    "import csv\n",
    "import unicodecsv\n",
    "import numpy as np\n",
    "import pandas as pd\n",
    "import matplotlib.pyplot as plt\n",
    "from sklearn.metrics import confusion_matrix\n",
    "\n",
    "def read_csv(filename = 'data/sentences_data_vp.csv'):\n",
    "    sentence = []\n",
    "    Y_classes = []\n",
    "\n",
    "    with open (filename) as csvDataFile:\n",
    "        csvReader = csv.reader(csvDataFile)\n",
    "\n",
    "        for row in csvReader:\n",
    "            sentence.append(row[0])\n",
    "            Y_classes.append(row[1])\n",
    "    X = np.asarray(sentence)\n",
    "    Y_classes = np.asarray(Y_classes, dtype=int)\n",
    "\n",
    "    return X, Y_classes"
   ]
  },
  {
   "cell_type": "code",
   "execution_count": 67,
   "metadata": {},
   "outputs": [],
   "source": [
    "X_demo, Y_demo = read_csv('data/sentences_data_test_vp.csv')"
   ]
  },
  {
   "cell_type": "markdown",
   "metadata": {},
   "source": [
    "Y_demo"
   ]
  },
  {
   "cell_type": "code",
   "execution_count": 68,
   "metadata": {},
   "outputs": [
    {
     "data": {
      "text/plain": [
       "(38,)"
      ]
     },
     "execution_count": 68,
     "metadata": {},
     "output_type": "execute_result"
    }
   ],
   "source": [
    "Y_demo.shape"
   ]
  },
  {
   "cell_type": "code",
   "execution_count": 51,
   "metadata": {},
   "outputs": [
    {
     "data": {
      "text/plain": [
       "(326,)"
      ]
     },
     "execution_count": 51,
     "metadata": {},
     "output_type": "execute_result"
    }
   ],
   "source": [
    "Y_demo.shape"
   ]
  },
  {
   "cell_type": "code",
   "execution_count": 47,
   "metadata": {},
   "outputs": [
    {
     "data": {
      "text/plain": [
       "array(['\\ufeff I had known and worked with one of my co-founders for over twenty years',\n",
       "       'Two of my co-founders came through recommendations of other co-founders',\n",
       "       'Another co-founder and I worked together and had known each other for about nine years',\n",
       "       'The one thing all my co-founders had in common was they all came through trusted sources',\n",
       "       'Either I sourced them myself - what more trusted source can you have than that - or a trusted source - one of my other co-founders - introduced them to me',\n",
       "       'Interestingly enough two of my co-founders were not good choices',\n",
       "       'One of the co-founders that I knew for twenty years did not work out and one of the co-founders that I was introduced to through a trusted source did not work out',\n",
       "       'Its almost impossible to figure out who is going to work out in a company before you hire them',\n",
       "       'However there are things you can do to dramatically increase the odds of success',\n",
       "       'Make sure your co-founders are hungry',\n",
       "       'A definition of insanity is doing the same thing again and again and expecting different results',\n",
       "       'I recruited two people that were wealthy to be co-founders and both failed',\n",
       "       'Wealth is not enough to disqualify someone from being a co-founder but sometimes you lose your edge when you have already made it financially',\n",
       "       'Ken was living the life and I hoped for the best but I knew there was likely going to be a problem with his motivation when he choose to live in a fancy building in San Francisco instead of buying a home in the Silicon Valley where the company was located',\n",
       "       'I wondered if he would really be willing to spend all that time on the road away from his family',\n",
       "       'I did not have one conversation with Ken about my concerns until the day before he quit',\n",
       "       'Instead I just hoped things would work out',\n",
       "       'Things didnt work out',\n",
       "       'Make sure your vision for the company matches',\n",
       "       'I had a very clear vision of how I wanted the company to evolve and what I wanted the company to do',\n",
       "       'I recruited like-minded people that shared the same vision - this is crucial to success because there are enough other problems that can derail a company',\n",
       "       'You need everyone in the company marching in the same direction',\n",
       "       'Imagine the chaos if you and your fellow co-founders cant agree on what direction to take and what to do',\n",
       "       'The odds of your success go way up when you and your co-founders are on the same page',\n",
       "       'Make sure your co-founders have integrity',\n",
       "       'Maybe I should have listed this one at the top because integrity in business is everything',\n",
       "       'To me integrity means that you are going to be honest',\n",
       "       'It means that you are morally sound',\n",
       "       'It means I can implicitly trust you with my life - which I am if I am asking you to be a co-founder',\n",
       "       'Becoming a co-founder is a huge responsibility',\n",
       "       'Sadly many people dont take the responsibility that comes with being a co-founder seriously enough',\n",
       "       'Many potential co-founders just dont understand the commitment required',\n",
       "       'You can vet these people out by just spending enough time with them',\n",
       "       'I would say a minimum of three months but sometimes you need nine months or more',\n",
       "       'The ones you have to worry about are the ones with bad intentions',\n",
       "       'I had this happen to me',\n",
       "       'And bad intentions can destroy even the best plan',\n",
       "       'Make sure your co-founders have the energy to stay the course',\n",
       "       'Ask yourself if your co-founders have the perseverance to stick with the company when times are tough because there are going to be tough times',\n",
       "       'You will see the signs of trouble early on',\n",
       "       'Get worried if your co-founder is asking you to radically change the direction of the company at the first sign of resistance',\n",
       "       'I am not saying you should not listen to valuable feedback',\n",
       "       'I am saying that you cant be changing direction every time an investor rejects you because you will be changing direction a lot',\n",
       "       'This is when you need to have a steady hand at the wheel',\n",
       "       'Nothing is easy at the start because you are simultaneously building a brand and growing your team and growing your business',\n",
       "       'Its supposed to be hard and your co-founders need to understand this',\n",
       "       'Make sure your co-founders are great in their respective disciplines',\n",
       "       'Always hire the best', 'Always work with the best',\n",
       "       'You want superstar co-founders and you only want superstar co-founders',\n",
       "       'Its very difficult to start a company with B level talent and then transition to A level talent',\n",
       "       'Start with superstars instead',\n",
       "       'Superstar co-founders attract other superstars to work with them',\n",
       "       'In turn these new superstar recruits attract other superstars',\n",
       "       'This is the best way to recruit your initial team',\n",
       "       'Make sure your co-founders are cultural fits',\n",
       "       'The importance of a great company culture is often overlooked',\n",
       "       'Dont make this crucial mistake when it comes to your company and co-founders',\n",
       "       'Remember that you cant decree your culture',\n",
       "       'Your culture is going to evolve based on the employees you hire',\n",
       "       'And the first employees are your co-founders',\n",
       "       'So stay away from bringing on a brilliant jerk as a co-founder unless you want a team of brilliant jerks',\n",
       "       'Hire smart passionate people that share your vision for the company',\n",
       "       'I am not saying your team should not be diverse',\n",
       "       'Diversity is good',\n",
       "       'But there needs to be agreement on the basic direction of the company and the core values of the company',\n",
       "       'You can take all the right steps and there may still be a co-founder that doesnt work out',\n",
       "       'Thats okay and just learn from what happened',\n",
       "       'The next person you hire will be a better fit',\n",
       "       'Network aggressively not for the present but largely for the future',\n",
       "       'Dont worry about meeting smart technical people yet',\n",
       "       'Meet rich and well-connected people who can make things happen',\n",
       "       'Do you know enough VCs to start a herd like feeding frenzy no matter what the product or idea is ?',\n",
       "       'Do you have the big company contacts to get a failing business acquired at $ 4 million per head and a successful business acquired on the best terms possible including autonomous continuation of the product / company',\n",
       "       'If there is a hit against your reputation or that of one of your important players do you have a fixer who can have the problem discredited or silenced ?',\n",
       "       'You have to come with the resources all - in - hand',\n",
       "       'You will meet the nerds later but right now meet a group of rich and well-connected people and get them liking you',\n",
       "       'Your contacts are why the tech co-founder is willing to split half his riches with you',\n",
       "       'Be close friends with at least two partners at each of the top 10 VC firms',\n",
       "       'Know the names of the people at Google and Apple who acquire companies and be able to get them to go out for lunch with you',\n",
       "       'You are not going to find a technical co-founder to implement your idea with no input on his side',\n",
       "       'She is going to want to be a contributor to the idea because after all she has ideas of her own',\n",
       "       'Chances are the idea will be some combination of hers and yours possibly with others contributions thrown in',\n",
       "       'Depending on the product or service her idea may be better than yours',\n",
       "       'You need to be greedy by which I mean you have to be laser focused on building a great business but not particular about what type of business it is',\n",
       "       'Does your tech co-founder think that enterprise machine learning infrastructure is more interesting than the social network that you wanted to build ?',\n",
       "       'Your only interference with the idea / product should be in the interest of increasing the probability that it makes you rich not that its yours',\n",
       "       'Remember that what matters is that you and your other founders and investors get rich not whether its your idea or someone else that gets made',\n",
       "       'If you pick the right technical co-founder the idea will be mostly hers but the time the product is built and thats fine',\n",
       "       'Do some hobbyist coding',\n",
       "       'If you are going to be doing big data or data science then get an undergrad - level understanding of machine learning or AI',\n",
       "       'It will give you enough familiarity with the landscape to garner respect among serious practitioners and detect / weed out at least some of the charlatans',\n",
       "       'Choose co-founders the way you would choose a spouse',\n",
       "       'The reality is that you will at least in the early days spend far more time with your co-founders than your partner',\n",
       "       'The co-founder relationship is perhaps the most personal of all business relationships',\n",
       "       'Co-founders are like the parents of a newborn business and as such they spend countless hours working and arguing together in order to see that business become successful',\n",
       "       'Some of the worlds most successful co-founders have had drastically different outlooks and skill sets but it was often those differences that made the relationships work',\n",
       "       'Combine a sales minded dreamer with a genius engineer or combine a punk rocker with a hip-hop pioneer',\n",
       "       'I met my cofounder in the university',\n",
       "       'We were taking an algorithms analysis class together and were later reintroduced by a common friend',\n",
       "       'Combine a sales minded dreamer with a genius engineer or combine a punk rocker with a hip-hop pioneer and\\u200a\\u200athe sum can often be greater than its parts',\n",
       "       'After some initial friction it worked out really well - you would have to ask him if he agrees - but I think its an exception rather than the rule',\n",
       "       'We were incredibly lucky it worked out the way it did',\n",
       "       'If I were to do it again and had to find a cofounder I wouldnt leave it up to chance',\n",
       "       'The biggest mistake I see is people jumping into it with friends who are not qualified to take a company off the ground at all',\n",
       "       'Think about it - you wouldnt just hire someone because they are a nice guy without doing an interview',\n",
       "       'So dont leave it up to chance',\n",
       "       'Make a list of qualities you want to see in your potential cofounder',\n",
       "       'Then hit up everyone you know',\n",
       "       'Call everyone you respect and ask them for a list of five people they respect',\n",
       "       'Go to university professors and ask for top five students they know',\n",
       "       'Go to events and introduce yourself to people',\n",
       "       'Do founder dating',\n",
       "       'Compile a list of twenty people you are impressed with and hopefully are a little intimidated by who want to start a company',\n",
       "       'Then interview each one of them', 'Make sure they are qualified',\n",
       "       'Let them interview you - in fact dont start a company with them if they dont rigorously interview you',\n",
       "       'Talk completely openly about your goals and theirs',\n",
       "       'Take it slow',\n",
       "       'Act as a professional - design an interview process and stick to it with all candidates',\n",
       "       'It can take a couple of months to interview and close a senior executive hire - it should take about as long to interview and close a cofounder',\n",
       "       'Do it in steps over a period of a few weeks',\n",
       "       'Define criteria and goals for each step and stick to them',\n",
       "       'Do not wing it or you will have wasted the next two years of your life',\n",
       "       'I would say that if the whole process takes you less than four to six months of nearly full-time work you are probably being way too cavalier about it',\n",
       "       'I dont know where one would get the assumption that you will lose the friend if the business fails',\n",
       "       'A failed startup - and a successful one too - will obviously stress the friendship',\n",
       "       'But if you go in with a very close friend or you become close very in the early days of constant work your friendship will hopefully be strong enough that you will tough it out and still be great friends regardless of the outcome',\n",
       "       'If you have a friend that you are that close with who is a good candidate for being a cofounder that close relationship will be a huge asset',\n",
       "       'Paul Graham said somewhere that he prefers to invest in close friends because they will stick it out even during trough of sorrow times because the friendship keeps them in it',\n",
       "       'it will also make things more fun if you are putting in those long hours with someone that you enjoy spending time with',\n",
       "       'But you should not choose a close friend that you would not choose as a cofounder if you had just met them',\n",
       "       'its very important that they be skilled and motivated enough that they are a real asset to the startup',\n",
       "       'My first startup hasnt even written a line of code yet',\n",
       "       'But my cofounders are my close friend and his close friend and I am very happy about that',\n",
       "       'Friends wont always have the extremely honest and frank business conversations needed',\n",
       "       'I can give anecdotal evidence of this as I was lucky to work at a record label startup founded by friends',\n",
       "       'Both were 100% behind the company but it took some 5 years to fully understand that 1 friend loved music and the other loved money',\n",
       "       'It ended quite badly the friendship was deeply affected by this and the signings reflected a pendulum shift from creativity to product creation',\n",
       "       'It has been argued that friendships will inhibit the asking of the kind of questions that would have rooted that out and in either scenario made it more successful indeed thats my view of this one instance',\n",
       "       'So yes friendship can be a real problem',\n",
       "       'Not that its that black and white - friendships can also be a real boon as Paul Graham has mentioned it can be the difference that makes people stick with it through the harder times',\n",
       "       'So there is nothing conclusive either way - depends on the people involved',\n",
       "       'So my co-founder and I met during our studies in Singapore but we met at least in part because of Hacker News',\n",
       "       'Before moving to Singapore I updated my profile on Hacker News saying that I would move there',\n",
       "       'A few weeks after I had arrived in Singapore I got an email from Ata asking if I was interested to meet up',\n",
       "       'And that is when the mating dance began',\n",
       "       'Over a period of six months we started exchanging ideas and building trust',\n",
       "       'We brainstormed a little each time we met and after about five months I told Ata about this idea that I had been thinking about for 8 months then',\n",
       "       'I didnt hear from Ata for about two weeks after that meeting and started to worry a little',\n",
       "       'But two weeks later I had an email from him in my Inbox which contained the URL to a prototype',\n",
       "       'That sealed the deal between us',\n",
       "       'A few weeks later we signed a declaration of intent and we have been moving forward full throttle since then',\n",
       "       'So far the collaboration hasnt always been easy - we are still getting to know each other and working from two different locations doesnt make that easier - but we have found ways to get things done',\n",
       "       'Starting up with a friend might be easier because you know each other very well but I found a new friend and our relationship isnt loaded with baggage from earlier',\n",
       "       'Just be rational and logical with your decisions',\n",
       "       'Having similarity with someone personality wise helps mostly because you will be more likely to keep in touch - not necessarily business - and keep discussions going',\n",
       "       'My collaborator and I were not best buddies before starting but we did have limited experience together in project based school work',\n",
       "       'Things like startupweekend might be a good testing ground - for a relationship',\n",
       "       'I also found out being overly dismissive of your collaborators approach on something is unnecessary -  always be first to offer the other to prototype their idea out and if it sucks or is going nowhere make your version',\n",
       "       'Be objective',\n",
       "       'The best way to find trust is to express it yourself',\n",
       "       'Be sure to take care of yourself so that way if you do have to move on you can do so painlessly'],\n",
       "      dtype='<U255')"
      ]
     },
     "execution_count": 47,
     "metadata": {},
     "output_type": "execute_result"
    }
   ],
   "source": [
    "X_demo"
   ]
  },
  {
   "cell_type": "code",
   "execution_count": 69,
   "metadata": {},
   "outputs": [],
   "source": [
    "def convert_to_one_hot(Y, C):\n",
    "    Y = np.eye(C)[Y.reshape(-1)]\n",
    "    return Y\n",
    "\n",
    "element_dictionary = {\"0\": \"Prior opportunity\",    \n",
    "                    \"1\": \"After opportunity\",\n",
    "                    \"2\": \"S-FOCI\",\n",
    "                    \"3\": \"C-FOCI\",\n",
    "                    \"4\": \"Aspiration level\",\n",
    "                    \"5\": \"Chemistry\",   \n",
    "                    \"6\": \"Competence\",\n",
    "                    \"7\": \"High status\",\n",
    "                    \"8\": \"Low status\",\n",
    "                    \"9\": \"Common bond\",\n",
    "                    \"10\": \"Common identity\",    \n",
    "                    \"11\": \"High cohesion\",\n",
    "                    \"12\": \"Low cohesion\",\n",
    "                    \"13\": \"Small team\",\n",
    "                    \"14\": \"Large team\",\n",
    "                    \"15\": \"Deadlock\",   \n",
    "                    \"16\": \"No deadlock\",\n",
    "                    \"17\": \"Mismatch\",\n",
    "                    \"18\": \"Pivot\",\n",
    "                    \"19\": \"Dissolve venture\",\n",
    "                    \"20\": \"New cofounder search\",   \n",
    "                    \"21\": \"Change cofounder\",}"
   ]
  },
  {
   "cell_type": "code",
   "execution_count": 70,
   "metadata": {},
   "outputs": [
    {
     "data": {
      "text/plain": [
       "{'0': 'Prior opportunity',\n",
       " '1': 'After opportunity',\n",
       " '10': 'Common identity',\n",
       " '11': 'High cohesion',\n",
       " '12': 'Low cohesion',\n",
       " '13': 'Small team',\n",
       " '14': 'Large team',\n",
       " '15': 'Deadlock',\n",
       " '16': 'No deadlock',\n",
       " '17': 'Mismatch',\n",
       " '18': 'Pivot',\n",
       " '19': 'Dissolve venture',\n",
       " '2': 'S-FOCI',\n",
       " '20': 'New cofounder search',\n",
       " '21': 'Change cofounder',\n",
       " '3': 'C-FOCI',\n",
       " '4': 'Aspiration level',\n",
       " '5': 'Chemistry',\n",
       " '6': 'Competence',\n",
       " '7': 'High status',\n",
       " '8': 'Low status',\n",
       " '9': 'Common bond'}"
      ]
     },
     "execution_count": 70,
     "metadata": {},
     "output_type": "execute_result"
    }
   ],
   "source": [
    "element_dictionary"
   ]
  },
  {
   "cell_type": "code",
   "execution_count": 74,
   "metadata": {},
   "outputs": [],
   "source": [
    "element_dictionary = {\"0\": \"Prior opportunity\",\n",
    "                      \"1\": \"After opportunity\",\n",
    "                      \"2\": \"S-FOCI\",\n",
    "                      \"3\": \"C-FOCI\",\n",
    "                      \"4\": \"Aspiration level\",\n",
    "                      \"5\": \"Chemistry\",\n",
    "                      \"6\": \"Competence\",\n",
    "                      \"7\": \"High status\",\n",
    "                      \"8\": \"Low status\",\n",
    "                      \"9\": \"Common bond\",\n",
    "                      \"10\": \"Common identity\",\n",
    "                      \"11\": \"High cohesion\",\n",
    "                      \"12\": \"Low cohesion\",\n",
    "                      \"13\": \"Small team\",\n",
    "                      \"14\": \"Large team\",\n",
    "                      \"15\": \"Deadlock\",\n",
    "                      \"16\": \"No deadlock\",\n",
    "                      \"17\": \"Mismatch\",\n",
    "                      \"18\": \"Pivot\",\n",
    "                      \"19\": \"Dissolve venture\",\n",
    "                      \"20\": \"New cofounder search\",\n",
    "                      \"21\": \"Change cofounder\"}"
   ]
  },
  {
   "cell_type": "code",
   "execution_count": 75,
   "metadata": {},
   "outputs": [
    {
     "data": {
      "text/plain": [
       "{'0': 'Prior opportunity',\n",
       " '1': 'After opportunity',\n",
       " '10': 'Common identity',\n",
       " '11': 'High cohesion',\n",
       " '12': 'Low cohesion',\n",
       " '13': 'Small team',\n",
       " '14': 'Large team',\n",
       " '15': 'Deadlock',\n",
       " '16': 'No deadlock',\n",
       " '17': 'Mismatch',\n",
       " '18': 'Pivot',\n",
       " '19': 'Dissolve venture',\n",
       " '2': 'S-FOCI',\n",
       " '20': 'New cofounder search',\n",
       " '21': 'Change cofounder',\n",
       " '3': 'C-FOCI',\n",
       " '4': 'Aspiration level',\n",
       " '5': 'Chemistry',\n",
       " '6': 'Competence',\n",
       " '7': 'High status',\n",
       " '8': 'Low status',\n",
       " '9': 'Common bond'}"
      ]
     },
     "execution_count": 75,
     "metadata": {},
     "output_type": "execute_result"
    }
   ],
   "source": [
    "element_dictionary"
   ]
  },
  {
   "cell_type": "code",
   "execution_count": null,
   "metadata": {},
   "outputs": [],
   "source": []
  }
 ],
 "metadata": {
  "kernelspec": {
   "display_name": "Python 3",
   "language": "python",
   "name": "python3"
  },
  "language_info": {
   "codemirror_mode": {
    "name": "ipython",
    "version": 3
   },
   "file_extension": ".py",
   "mimetype": "text/x-python",
   "name": "python",
   "nbconvert_exporter": "python",
   "pygments_lexer": "ipython3",
   "version": "3.6.4"
  }
 },
 "nbformat": 4,
 "nbformat_minor": 2
}
